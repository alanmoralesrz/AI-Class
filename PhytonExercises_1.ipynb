{
  "nbformat": 4,
  "nbformat_minor": 0,
  "metadata": {
    "colab": {
      "provenance": [],
      "authorship_tag": "ABX9TyMmyGCcMyQXllHaHlqrt6yk",
      "include_colab_link": true
    },
    "kernelspec": {
      "name": "python3",
      "display_name": "Python 3"
    },
    "language_info": {
      "name": "python"
    }
  },
  "cells": [
    {
      "cell_type": "markdown",
      "metadata": {
        "id": "view-in-github",
        "colab_type": "text"
      },
      "source": [
        "<a href=\"https://colab.research.google.com/github/alanmoralesrz/AI-Class/blob/main/PhytonExercises_1.ipynb\" target=\"_parent\"><img src=\"https://colab.research.google.com/assets/colab-badge.svg\" alt=\"Open In Colab\"/></a>"
      ]
    },
    {
      "cell_type": "markdown",
      "source": [
        "Phyton Excercises\n",
        "\n",
        "Alan Dario Morales Rodriguez\n",
        "\n",
        "Student ID: 1870294\n",
        "\n",
        "Subject: Artificial Inteligence\n",
        "\n",
        "Day and Hour: Tuesday N4"
      ],
      "metadata": {
        "id": "bPYSwrL5mzIX"
      }
    },
    {
      "cell_type": "markdown",
      "source": [
        "\n",
        "\n",
        "Conversion from decimal to binary system:"
      ],
      "metadata": {
        "id": "w1FowbeyEN8_"
      }
    },
    {
      "cell_type": "code",
      "execution_count": null,
      "metadata": {
        "id": "Ev05nxXymp99"
      },
      "outputs": [],
      "source": [
        "for num in range(256): # loop to reach 255\n",
        "  bi = \"\"              # bi (binary number) declaration \n",
        "  while num != 0:      # repeat while num is not 0\n",
        "   residue = num%2\n",
        "   bi=str(residue)+bi  # Put together the 0 and 1\n",
        "   num=num//2\n",
        "  print(bi)"
      ]
    },
    {
      "cell_type": "markdown",
      "source": [
        "\n",
        "\n",
        "Math Pyramid:"
      ],
      "metadata": {
        "id": "IiXs78xr-Lh2"
      }
    },
    {
      "cell_type": "code",
      "source": [
        "lista = [20,5,10,8]\n",
        "lista2 = lista\n",
        "\n",
        "for x in range(len(lista)-1):    # loop from x = 0, to 3\n",
        "  for y in range(len(lista2)-1): # loop where the range is changing \n",
        "      lista2[y] = lista2[y] + lista2[y+1] # Sum of the number and the next one \n",
        "  lista2 = lista2[:len(lista2)-1] # the last number is removed from the list\n",
        "  print(lista2)\n"
      ],
      "metadata": {
        "colab": {
          "base_uri": "https://localhost:8080/"
        },
        "id": "-utnbJXwBCC1",
        "outputId": "504ab4c8-3be7-4700-b6bb-19ce8a9ea326"
      },
      "execution_count": null,
      "outputs": [
        {
          "output_type": "stream",
          "name": "stdout",
          "text": [
            "[25, 15, 18]\n",
            "[40, 33]\n",
            "[73]\n"
          ]
        }
      ]
    }
  ]
}