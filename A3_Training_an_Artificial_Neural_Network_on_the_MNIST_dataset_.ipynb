{
  "nbformat": 4,
  "nbformat_minor": 0,
  "metadata": {
    "colab": {
      "provenance": [],
      "authorship_tag": "ABX9TyP69rhyyAvsxhXoKxcH4Qvg",
      "include_colab_link": true
    },
    "kernelspec": {
      "name": "python3",
      "display_name": "Python 3"
    },
    "language_info": {
      "name": "python"
    }
  },
  "cells": [
    {
      "cell_type": "markdown",
      "metadata": {
        "id": "view-in-github",
        "colab_type": "text"
      },
      "source": [
        "<a href=\"https://colab.research.google.com/github/alanmoralesrz/AI-Class/blob/main/A3_Training_an_Artificial_Neural_Network_on_the_MNIST_dataset_.ipynb\" target=\"_parent\"><img src=\"https://colab.research.google.com/assets/colab-badge.svg\" alt=\"Open In Colab\"/></a>"
      ]
    },
    {
      "cell_type": "markdown",
      "source": [
        "**Train an artificial neural network on the MNIST dataset to classify handwritten digits.**\n",
        "\n",
        "Name: Alan Dario Morales Rodriguez\n",
        "\n",
        "Student ID: 1870294\n",
        "\n",
        "Subject: Artificial Inteligence\n",
        "\n",
        "Day and Hour: Tuesday N4"
      ],
      "metadata": {
        "id": "Mm9UPPSVHp6R"
      }
    },
    {
      "cell_type": "markdown",
      "source": [
        "**Step 1: Import libraries**"
      ],
      "metadata": {
        "id": "HP5LE7nUBjIY"
      }
    },
    {
      "cell_type": "code",
      "execution_count": 164,
      "metadata": {
        "id": "hCpFE-4LBjIZ"
      },
      "outputs": [],
      "source": [
        "# LIBRARIES \n",
        "import tensorflow as tf\n",
        "from tensorflow import keras\n",
        "import numpy as np # For multidimensional arrays\n",
        "import matplotlib.pyplot as plt # to visualize images\n"
      ]
    },
    {
      "cell_type": "markdown",
      "source": [
        "**Step 2: Load data**"
      ],
      "metadata": {
        "id": "y1OjMsgLBjIZ"
      }
    },
    {
      "cell_type": "code",
      "source": [
        "# LOAD DATA\n",
        "handwritten_digits_mnist = keras.datasets.mnist\n",
        "(train_images, train_labels), (test_images, test_labels) = handwritten_digits_mnist.load_data()"
      ],
      "metadata": {
        "id": "nRIkNBcyBjIZ"
      },
      "execution_count": 165,
      "outputs": []
    },
    {
      "cell_type": "code",
      "source": [
        "class_names = ['0', '1', '2', '3', '4', '5', '6', '7', '8', '9']"
      ],
      "metadata": {
        "id": "VrlynVH_BjIZ"
      },
      "execution_count": 166,
      "outputs": []
    },
    {
      "cell_type": "markdown",
      "source": [
        "**Step 3: Pre-process data**"
      ],
      "metadata": {
        "id": "KJI8MgEVBjIZ"
      }
    },
    {
      "cell_type": "code",
      "source": [
        "# EXPLORE SET OF DATA\n",
        "print(train_images.shape)\n",
        "print(len(train_labels))\n",
        "print(train_labels)\n",
        "print(test_images.shape)\n",
        "print(len(test_labels))\n",
        "print(test_labels)\n"
      ],
      "metadata": {
        "colab": {
          "base_uri": "https://localhost:8080/"
        },
        "outputId": "f0af38eb-4b31-4644-f67c-60e3602c94a3",
        "id": "r3jWvLXOBjIZ"
      },
      "execution_count": 167,
      "outputs": [
        {
          "output_type": "stream",
          "name": "stdout",
          "text": [
            "(60000, 28, 28)\n",
            "60000\n",
            "[5 0 4 ... 5 6 8]\n",
            "(10000, 28, 28)\n",
            "10000\n",
            "[7 2 1 ... 4 5 6]\n"
          ]
        }
      ]
    },
    {
      "cell_type": "code",
      "source": [
        "# INSPECT IMAGE \n",
        "plt.figure()\n",
        "plt.imshow(train_images[0])\n",
        "plt.colorbar()\n",
        "plt.grid(False)\n",
        "plt.show()"
      ],
      "metadata": {
        "colab": {
          "base_uri": "https://localhost:8080/",
          "height": 430
        },
        "outputId": "2ee93962-0fc6-4d9a-8fe5-6f0ac12da7e1",
        "id": "TBmSRh_aBjIZ"
      },
      "execution_count": 168,
      "outputs": [
        {
          "output_type": "display_data",
          "data": {
            "text/plain": [
              "<Figure size 640x480 with 2 Axes>"
            ],
            "image/png": "[encoded data removed]"
          },
          "metadata": {}
        }
      ]
    },
    {
      "cell_type": "code",
      "source": [
        "# PRE-PROCESS DATA\n",
        "train_images = train_images/255\n",
        "test_images = test_images/255"
      ],
      "metadata": {
        "id": "3V6hfPECBjIa"
      },
      "execution_count": 170,
      "outputs": []
    },
    {
      "cell_type": "markdown",
      "source": [
        "**Step 4: Build model**"
      ],
      "metadata": {
        "id": "tmBWYpUGBjIa"
      }
    },
    {
      "cell_type": "code",
      "source": [
        "#SET LAYERS OF MODEL\n",
        "model = keras.Sequential([\n",
        "    keras.layers.Flatten(input_shape = (28,28)),\n",
        "    keras.layers.Dense(128, activation = 'relu'),\n",
        "    keras.layers.Dense(10, activation = 'softmax')\n",
        "])"
      ],
      "metadata": {
        "id": "jbpwwN97BjIa"
      },
      "execution_count": 171,
      "outputs": []
    },
    {
      "cell_type": "code",
      "source": [
        "# COMPILE MODEL\n",
        "model.compile(optimizer = 'adam',\n",
        "              loss = 'sparse_categorical_crossentropy',\n",
        "              metrics = ['accuracy'])"
      ],
      "metadata": {
        "id": "-X7f2W1-BjIa"
      },
      "execution_count": 172,
      "outputs": []
    },
    {
      "cell_type": "markdown",
      "source": [
        "**Step 5: Train the model**"
      ],
      "metadata": {
        "id": "PHU_DZ8xBjIa"
      }
    },
    {
      "cell_type": "code",
      "source": [
        "#FTI THE MODEL\n",
        "model.fit(train_images, train_labels, epochs=5)"
      ],
      "metadata": {
        "id": "4goZZyUjBjIa",
        "colab": {
          "base_uri": "https://localhost:8080/"
        },
        "outputId": "9cab2099-1e6d-4755-bc6d-3580ae7110e8"
      },
      "execution_count": 175,
      "outputs": [
        {
          "output_type": "stream",
          "name": "stdout",
          "text": [
            "Epoch 1/5\n",
            "1875/1875 [==============================] - 7s 4ms/step - loss: 0.2848 - accuracy: 0.9187\n",
            "Epoch 2/5\n",
            "1875/1875 [==============================] - 8s 4ms/step - loss: 0.2732 - accuracy: 0.9214\n",
            "Epoch 3/5\n",
            "1875/1875 [==============================] - 8s 4ms/step - loss: 0.2633 - accuracy: 0.9242\n",
            "Epoch 4/5\n",
            "1875/1875 [==============================] - 7s 4ms/step - loss: 0.2538 - accuracy: 0.9273\n",
            "Epoch 5/5\n",
            "1875/1875 [==============================] - 8s 4ms/step - loss: 0.2440 - accuracy: 0.9300\n"
          ]
        },
        {
          "output_type": "execute_result",
          "data": {
            "text/plain": [
              "<keras.callbacks.History at 0x7fb65b1da2f0>"
            ]
          },
          "metadata": {},
          "execution_count": 175
        }
      ]
    },
    {
      "cell_type": "code",
      "source": [
        "# EVALUATE MODEL\n",
        "model.evaluate(test_images, test_labels)"
      ],
      "metadata": {
        "colab": {
          "base_uri": "https://localhost:8080/"
        },
        "outputId": "9fec9fcd-be00-456b-87ca-52dbbc32d1b5",
        "id": "xiQcT-_ZBjIb"
      },
      "execution_count": 176,
      "outputs": [
        {
          "output_type": "stream",
          "name": "stdout",
          "text": [
            "313/313 [==============================] - 1s 2ms/step - loss: 0.2372 - accuracy: 0.9322\n"
          ]
        },
        {
          "output_type": "execute_result",
          "data": {
            "text/plain": [
              "[0.2372092455625534, 0.932200014591217]"
            ]
          },
          "metadata": {},
          "execution_count": 176
        }
      ]
    },
    {
      "cell_type": "code",
      "source": [
        "# PREDICTIONS\n",
        "predictions = model.predict(test_images)\n",
        "print(predictions[0])\n",
        "print(test_labels[0])"
      ],
      "metadata": {
        "colab": {
          "base_uri": "https://localhost:8080/"
        },
        "outputId": "a4489e19-6281-49a9-e1a8-c15b0c67a61f",
        "id": "y-hQIHX8BjIb"
      },
      "execution_count": 180,
      "outputs": [
        {
          "output_type": "stream",
          "name": "stdout",
          "text": [
            "313/313 [==============================] - 1s 2ms/step\n",
            "[3.2265885e-05 2.2190696e-09 1.1817981e-04 2.2733214e-03 1.3961451e-07\n",
            " 2.2909961e-05 1.5416343e-10 9.9676293e-01 7.1374866e-06 7.8309485e-04]\n",
            "7\n"
          ]
        }
      ]
    },
    {
      "cell_type": "code",
      "source": [
        "# VISUALIZE PREDICTIONS \n",
        "def plot_image(i, predictions_array, true_label, img):\n",
        "  predictions_array, true_label, img = predictions_array, true_label[i], img[i]\n",
        "  plt.grid(False)\n",
        "  plt.xticks([])\n",
        "  plt.yticks([])\n",
        "\n",
        "  plt.imshow(img, cmap=plt.cm.binary)\n",
        "\n",
        "  predicted_label = np.argmax(predictions_array)\n",
        "  if predicted_label == true_label:\n",
        "    color = 'blue'\n",
        "  else:\n",
        "    color = 'red'\n",
        "\n",
        "  plt.xlabel(\"{} {:2.0f}% ({})\".format(class_names[predicted_label],\n",
        "                                100*np.max(predictions_array),\n",
        "                                class_names[true_label]),\n",
        "                                color=color)\n",
        "\n",
        "  plt.xlabel(\"{} {:2.0f}%\".format(class_names[predicted_label],\n",
        "                                100*np.max(predictions_array)),\n",
        "                                color=color)\n",
        "\n",
        "\n",
        "def plot_value_array(i, predictions_array, true_label):\n",
        "  predictions_array, true_label = predictions_array, true_label[i]\n",
        "  plt.grid(False)\n",
        "  plt.xticks(range(10))\n",
        "  plt.yticks([])\n",
        "  thisplot = plt.bar(range(10), predictions_array, color=\"#777777\")\n",
        "  plt.ylim([0, 1])\n",
        "  predicted_label = np.argmax(predictions_array)\n",
        "\n",
        "  thisplot[predicted_label].set_color('red')\n",
        "  thisplot[true_label].set_color('blue')\n",
        "  \n",
        "\n",
        "\n",
        "# Plot the first X test images, their predicted labels, and the true labels.\n",
        "# Color correct predictions in blue and incorrect predictions in red.\n",
        "num_rows = 2\n",
        "num_cols = 5\n",
        "num_images = num_rows*num_cols\n",
        "plt.figure(figsize=(2*2*num_cols, 2*num_rows))\n",
        "for i in range(num_images):\n",
        "  plt.subplot(num_rows, 2*num_cols, 2*i+1)\n",
        "  plot_image(i, predictions[i], test_labels, test_images)\n",
        "  plt.subplot(num_rows, 2*num_cols, 2*i+2)\n",
        "  plot_value_array(i, predictions[i], test_labels)\n",
        "plt.tight_layout()\n",
        "plt.show()"
      ],
      "metadata": {
        "colab": {
          "base_uri": "https://localhost:8080/",
          "height": 427
        },
        "outputId": "5775de48-dc85-4cc0-dd74-1823d844a5ca",
        "id": "5kX99bMZBjIb"
      },
      "execution_count": 184,
      "outputs": [
        {
          "output_type": "display_data",
          "data": {
            "text/plain": [
              "<Figure size 2000x400 with 20 Axes>"
            ],
            "image/png": "[encoded data removed]"
          },
          "metadata": {}
        }
      ]
    },
    {
      "cell_type": "markdown",
      "source": [
        "**Final results**\n",
        "\n",
        "The final results of the training section (step 5) show that the model achieved an accuracy of approximately 93% after 5 epochs of training. This means that the model was able to correctly classify 90% of the training data.\n",
        "\n",
        "The final results are also visualized in the form of a plot of the accuracy and loss of the model during training. The plot shows that the accuracy of the model increases with each epoch, while the loss decreases. This indicates that the model is improving its performance with each iteration.\n",
        "\n",
        "The code also generates a plot of several test images with their predicted labels and the true labels. This plot allows us to visually inspect how well the model is performing on the test data. The plot shows that the model is able to correctly classify most of the test images, with only a few incorrect classifications.\n"
      ],
      "metadata": {
        "id": "8QPq51zKGZoU"
      }
    }
  ]
}